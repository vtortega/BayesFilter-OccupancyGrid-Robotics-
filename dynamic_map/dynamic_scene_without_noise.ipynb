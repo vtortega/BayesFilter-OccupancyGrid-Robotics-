{
 "cells": [
  {
   "cell_type": "code",
   "execution_count": 1,
   "id": "02b1f9e3-2325-412c-9d7e-9eee604e8b02",
   "metadata": {},
   "outputs": [],
   "source": [
    "from coppeliasim_zmqremoteapi_client import RemoteAPIClient\n",
    "import os\n",
    "import numpy as np\n",
    "import math\n",
    "import time"
   ]
  },
  {
   "cell_type": "markdown",
   "id": "ffcca4fa-4a29-472c-a051-48470f457f69",
   "metadata": {},
   "source": [
    "### Defining the log odds\n",
    "And those same odds to probability"
   ]
  },
  {
   "cell_type": "code",
   "execution_count": 2,
   "id": "d4843116-3a66-4db7-adfc-76cc6d86c99f",
   "metadata": {},
   "outputs": [
    {
     "name": "stdout",
     "output_type": "stream",
     "text": [
      "-4.49511985013459\n",
      "0.4501660026875221\n"
     ]
    }
   ],
   "source": [
    "# Both pxz and ltx_old(t-1) should be inputed as probabilities\n",
    "def log_odds(pxz, ltx_old):\n",
    "    p_x = 0.5\n",
    "    log_odds = (math.log(pxz / (1 - pxz)) -  math.log(p_x / (1 - p_x)) + ltx_old)\n",
    "    \n",
    "    return log_odds\n",
    "\n",
    "def odds_to_probability(log_odd):\n",
    "    if log_odd > 0:\n",
    "        bel_x = 1 / (1 + np.exp(-log_odd))\n",
    "    else:\n",
    "        bel_x = np.exp(log_odd) / (1 + np.exp(log_odd))\n",
    "    return bel_x\n",
    "\n",
    "def odds_to_probability_array(log_odds_array):\n",
    "    vectorized_odds_to_probability = np.vectorize(odds_to_probability)\n",
    "    return vectorized_odds_to_probability(log_odds_array)\n",
    "\n",
    "def probability_to_odds(ltx_prob):\n",
    "    log_odd = math.log(ltx_prob / (1 - ltx_prob))\n",
    "    return log_odd\n",
    "    \n",
    "\n",
    "\n",
    "print(log_odds(0.01, 0.1))\n",
    "print(odds_to_probability(-0.2))"
   ]
  },
  {
   "cell_type": "markdown",
   "id": "2a5b31ee-7324-4f3e-a218-89baafe765b2",
   "metadata": {},
   "source": [
    "# Defining the transformations"
   ]
  },
  {
   "cell_type": "markdown",
   "id": "74c4dafd-83b9-491d-9786-0548c5119b9e",
   "metadata": {},
   "source": [
    "## Robot to world\n",
    "From robot to world(that is centered at the midle of the 3D map)"
   ]
  },
  {
   "cell_type": "code",
   "execution_count": 3,
   "id": "22b9784c-acf7-4a4e-8466-512da4a2bca1",
   "metadata": {},
   "outputs": [],
   "source": [
    "def make_transformation_robot_to_world(robot_handle, points):  \n",
    "    robot_position = sim.getObjectPosition(robot_handle)\n",
    "    robot_orientation = sim.getObjectOrientation(robot_handle)\n",
    "    \n",
    "    x_robot = robot_position[0]\n",
    "    y_robot = robot_position[1]\n",
    "    phi_rotation = robot_orientation[2] \n",
    "\n",
    "    x_points = points[:, 0]\n",
    "    y_points = points[:, 1]\n",
    "    \n",
    "    transformation_matrix = np.array([\n",
    "        [math.cos(phi_rotation), -math.sin(phi_rotation), x_robot],\n",
    "        [math.sin(phi_rotation), math.cos(phi_rotation), y_robot],\n",
    "        [0, 0, 1]])\n",
    "\n",
    "    points_in_robot = np.ones((np.shape(points)[0], 3))\n",
    "    \n",
    "    points_in_robot[:, 0] = x_points\n",
    "    points_in_robot[:, 1] = y_points\n",
    "\n",
    "    x_ = transformation_matrix @ np.transpose(points_in_robot)\n",
    "\n",
    "    transformed = np.transpose(np.delete(x_, 2, 0))\n",
    "    \n",
    "    return transformed"
   ]
  },
  {
   "cell_type": "markdown",
   "id": "e0e4bd3a-b4c7-4594-a193-756887066840",
   "metadata": {},
   "source": [
    "## World to robot\n",
    "From the world, to the robot coordinates"
   ]
  },
  {
   "cell_type": "code",
   "execution_count": 4,
   "id": "85a27d70-74af-4cf8-99a1-d74d6dbf4d5b",
   "metadata": {},
   "outputs": [],
   "source": [
    "def make_transformation_world_to_robot(robot_handle, points):\n",
    "    robot_position = sim.getObjectPosition(robot_handle)\n",
    "    robot_orientation = sim.getObjectOrientation(robot_handle)\n",
    "    \n",
    "    x_robot = robot_position[0]\n",
    "    y_robot = robot_position[1]\n",
    "    phi_rotation = robot_orientation[2] \n",
    "\n",
    "    x_points = points[:, 0]\n",
    "    y_points = points[:, 1]\n",
    "    \n",
    "    transformation_matrix = np.array([\n",
    "        [math.cos(phi_rotation), math.sin(phi_rotation), -x_robot],\n",
    "        [-math.sin(phi_rotation), math.cos(phi_rotation), -y_robot],\n",
    "        [0, 0, 1]])\n",
    "\n",
    "    points_in_robot = np.ones((np.shape(points)[0], 3))\n",
    "\n",
    "    points_in_robot[:, 0] = x_points\n",
    "    points_in_robot[:, 1] = y_points\n",
    "\n",
    "    x_ = transformation_matrix @ np.transpose(points_in_robot)\n",
    "\n",
    "    transformed = np.transpose(np.delete(x_, 2, 0))\n",
    "    \n",
    "    return transformed"
   ]
  },
  {
   "cell_type": "markdown",
   "id": "de3b65ad-9b31-436b-9213-3a1fc102ee73",
   "metadata": {},
   "source": [
    "# Processing sensor data"
   ]
  },
  {
   "cell_type": "markdown",
   "id": "b81964bc-9129-43dd-bdd1-da3b957d88fc",
   "metadata": {},
   "source": [
    "## Sensor data translation\n",
    "Transforms the data from the sensor into points in the coordinate system of the robot "
   ]
  },
  {
   "cell_type": "code",
   "execution_count": 5,
   "id": "bd8c856d-9dc3-471c-983b-0817bea9dfef",
   "metadata": {},
   "outputs": [],
   "source": [
    "# Return all coordinates, in the robot Cord. system, that the laser\n",
    "# would've \"stopped\" at. And it Returns a list, with the same number\n",
    "# of coordinate points as the list of points detected by the laser, with\n",
    "# 0s and 1s representing if that point was detected because it possibly \n",
    "# hit a object(0), or if its just the max range of the laser(1). \n",
    "\n",
    "# The max range can be changed at off_limit_range var.\n",
    "\n",
    "def sensor_processing_to_robot_coordinates():\n",
    "    # Declare noise variables levels.\n",
    "    # 0 if not needed \n",
    "    noise_distance = 0.01\n",
    "    noise_angle = 0.01\n",
    "    # Change laser limit.\n",
    "    off_limit_range = 4.8\n",
    "    too_close_range = 0.25\n",
    "\n",
    "    while(sim.getStringSignal(\"hokuyo_range_data\") == None):\n",
    "        sim.getStringSignal(\"hokuyo_range_data\")\n",
    "\n",
    "    string_range_data = sim.getStringSignal(\"hokuyo_range_data\")\n",
    "    string_angle_data = sim.getStringSignal(\"hokuyo_angle_data\")\n",
    "        \n",
    "    raw_range_data = sim.unpackFloatTable(string_range_data) \n",
    "    raw_angle_data = sim.unpackFloatTable(string_angle_data) \n",
    "    \n",
    "    # Add noise if noise variables are greater than 0\n",
    "    if noise_distance > 0:\n",
    "        raw_range_data = [dist + np.random.normal(0, noise_distance) for dist in raw_range_data]\n",
    "    if noise_angle > 0:\n",
    "        raw_angle_data = [angle + np.random.normal(0, noise_angle) for angle in raw_angle_data]\n",
    "\n",
    "    radians = np.array(raw_angle_data)\n",
    "    dist = np.array(raw_range_data)\n",
    "\n",
    "    points = []\n",
    "\n",
    "    off_limit_cells = []\n",
    "    \n",
    "    for i in range(0, len(radians)):\n",
    "        if dist[i] > off_limit_range:\n",
    "            off_limit_cells.append(1)\n",
    "        elif dist[i] < too_close_range:\n",
    "            off_limit_cells.append(2)\n",
    "        else:\n",
    "            off_limit_cells.append(0)\n",
    "        points.append(np.array([math.cos(radians[i]) * dist[i], math.sin(radians[i]) * dist[i]]))\n",
    "\n",
    "    points = np.array(points)\n",
    "\n",
    "    return points, off_limit_cells"
   ]
  },
  {
   "cell_type": "markdown",
   "id": "0c189622-4224-486a-84f1-ea57890a6da8",
   "metadata": {},
   "source": [
    "### Translated points to world coodinates\n",
    "Transforms the points gotten from the data and in the robot coordinates into the world coordinates."
   ]
  },
  {
   "cell_type": "code",
   "execution_count": 6,
   "id": "0c6c9beb-a6c3-48b7-9f0c-23c08ce1c19c",
   "metadata": {},
   "outputs": [],
   "source": [
    "def sensor_data_to_world(robot_handle):\n",
    "    sensor_data, off_limit = sensor_processing_to_robot_coordinates()\n",
    "    return make_transformation_robot_to_world(robot_handle, sensor_data), off_limit"
   ]
  },
  {
   "cell_type": "markdown",
   "id": "7bd67fbd-2af4-42d1-84f7-a9faf9faf33a",
   "metadata": {},
   "source": [
    "# Occupancy Grid\n",
    "And some algorithms to know where to explore with the robot"
   ]
  },
  {
   "cell_type": "code",
   "execution_count": 7,
   "id": "00746334-8d33-424e-9bf7-ceef95475199",
   "metadata": {},
   "outputs": [],
   "source": [
    "import matplotlib.pyplot as plt\n",
    "import matplotlib.image as mpimg\n",
    "from skimage.draw import line\n",
    "import scipy.ndimage as ndimage\n",
    "import heapq"
   ]
  },
  {
   "cell_type": "markdown",
   "id": "c1b331ff-0cd8-4d93-a0a4-2ecaa4f8f7f1",
   "metadata": {},
   "source": [
    "### Inverse sensor model\n",
    "In the case of the laser, all points in the line (sensor - object detected by laser) should be marked as not occupied, with careful consideration of the last ones, closer to the detected object, as it could interfere with the already occupied ones, that is, the last point of a line is still in the line, so we sould remove it from the cells considered unoccupied."
   ]
  },
  {
   "cell_type": "code",
   "execution_count": 8,
   "id": "3854ff9c-c3df-4291-85cb-45ebfdbd34ea",
   "metadata": {},
   "outputs": [],
   "source": [
    "def find_unoccupied_cells(translated_occupied_cells, trans_sensor_xy):\n",
    "    occupied_cells = translated_occupied_cells.astype(np.int16)\n",
    "    sensor_cell = trans_sensor_xy.astype(np.int16)\n",
    "\n",
    "    unoccupied_cells = sensor_cell\n",
    "\n",
    "    for cell in occupied_cells:\n",
    "        unocc_cells_x, unocc_cells_y = line(sensor_cell[0], sensor_cell[1], cell[0], cell[1])\n",
    "\n",
    "        unocc_cells = np.column_stack((unocc_cells_x, unocc_cells_y))\n",
    "\n",
    "        # Remove the cell closest to the object detected.\n",
    "        unocc_cells = np.delete(unocc_cells, -1, 0)\n",
    "\n",
    "        unoccupied_cells = np.row_stack((unoccupied_cells, unocc_cells))\n",
    "    \n",
    "    return list(unoccupied_cells)"
   ]
  },
  {
   "cell_type": "markdown",
   "id": "21c4c383-43f7-4c28-9fa4-91d9dd84f3aa",
   "metadata": {},
   "source": [
    "## Grid operations"
   ]
  },
  {
   "cell_type": "markdown",
   "id": "6d4a08d4-5f08-4a95-bf38-7740228cf53e",
   "metadata": {},
   "source": [
    "### Reduced grid \n",
    "Apply a ternary/tri-branch-logic funtion to the grid to obtain a numpy array with 0s(unoccupied), 1s(occupied) and 2s(unknown)."
   ]
  },
  {
   "cell_type": "code",
   "execution_count": 9,
   "id": "92c6a38e-e082-4a5b-95f8-c82641b1827c",
   "metadata": {},
   "outputs": [
    {
     "name": "stdout",
     "output_type": "stream",
     "text": [
      "[[1 1 1 1 1 1 1 1 1 1]\n",
      " [1 0 0 0 0 0 1 0 0 1]\n",
      " [1 0 0 0 0 0 0 2 0 1]\n",
      " [1 0 0 0 0 1 0 1 1 1]\n",
      " [1 0 0 0 0 0 1 2 0 1]\n",
      " [1 2 2 1 1 2 1 0 1 1]\n",
      " [1 2 2 2 1 2 1 1 0 1]\n",
      " [2 2 2 2 2 2 2 2 2 2]\n",
      " [2 2 2 2 2 2 2 2 2 2]\n",
      " [2 2 2 2 2 2 2 2 2 2]]\n"
     ]
    }
   ],
   "source": [
    "def reduce_grid(grid):\n",
    "    transformed_grid = np.zeros_like(grid, dtype=np.uint8)\n",
    "    \n",
    "    for i in range(0, len(transformed_grid[::1])):\n",
    "        for j in range(0, len(transformed_grid[i, ::1])):\n",
    "            if grid[i][j] < -0.2:\n",
    "                transformed_grid[i][j] = 0\n",
    "                \n",
    "            elif grid[i][j] > 0:\n",
    "                transformed_grid[i][j] = 1\n",
    "                \n",
    "            else:\n",
    "                transformed_grid[i][j] = 2\n",
    "\n",
    "    return transformed_grid\n",
    "\n",
    "example_grid = np.array(\n",
    "[[ 2.36, 3.00,  2.13,  1.12, 6.00,  2.58, 1.88,  3.58,  1.31, 8.00],\n",
    " [ 3.00, -0.99, -3.68, -3.16, -0.54, -3.43, 2.91, -1.25, -1.92, 7.00],\n",
    " [ 5.00, -3.90, -0.98, -3.12, -1.75,  -2.87, -1.11, -0.12, -1.85, 1.85],\n",
    " [ 5.00, -3.30, -0.28, -6, -2.12, 0.07, -1.64, 3.77, 1.61, 3.72],\n",
    " [ 3.62, -1.50, -0.92, -3.13, -3.84, -1.65, 2.30, -0.12, -0.91, 0.89],\n",
    " [ 1.22, 0.00, 0.00,  2.78,  1.64,  0,  1.06, -1.81,  3.69,  0.95],\n",
    " [ 3.20, 0.00, 0.00,  0.00,  2.38,  0,  0.1,  2.95, -1.98,  1.10],\n",
    " [0, 0, 0, 0, 0, 0, 0, 0,0, 0],\n",
    " [0, 0, 0, 0, 0, 0, 0, 0,0, 0],\n",
    " [0, 0, 0, 0, 0, 0, 0, 0,0, 0]]\n",
    ")\n",
    "\n",
    "ternary_grid_example = reduce_grid(example_grid)\n",
    "\n",
    "print(ternary_grid_example)"
   ]
  },
  {
   "cell_type": "markdown",
   "id": "30b4ac1b-7bbd-4d82-98cc-1a50b2d0732f",
   "metadata": {},
   "source": [
    "### Padding maker\n",
    "For finding the path for the robot to follow in the grid, it's needed to consider the size of the robot, to do so, padding around the 1s on the reduced matrix should be added."
   ]
  },
  {
   "cell_type": "markdown",
   "id": "8568de9f-34ac-4cac-8f16-981cf391ccb4",
   "metadata": {},
   "source": [
    "### Padding in the form of a circle\n",
    "Or should i say, a squared diamond, as circles are hard to drawn :("
   ]
  },
  {
   "cell_type": "code",
   "execution_count": 10,
   "id": "5232771e-f0c6-46b6-b5d1-361499881322",
   "metadata": {},
   "outputs": [
    {
     "name": "stdout",
     "output_type": "stream",
     "text": [
      "[[0 0 0 0 0 0 0 0 0 0]\n",
      " [0 2 0 0 0 0 0 2 0 0]\n",
      " [0 0 0 0 0 0 0 0 0 0]\n",
      " [0 0 0 1 0 0 0 0 0 0]\n",
      " [0 0 1 1 1 0 2 0 0 0]\n",
      " [0 1 1 1 1 1 0 0 0 0]\n",
      " [0 0 1 1 1 0 1 1 0 0]\n",
      " [0 0 0 1 0 1 1 1 1 0]\n",
      " [0 0 0 0 1 1 1 1 1 1]\n",
      " [0 0 0 0 0 1 1 1 1 0]]\n"
     ]
    }
   ],
   "source": [
    "def insert_circle_padding(grid, radius):\n",
    "    rows, cols = grid.shape\n",
    "    marked_matrix = np.copy(grid)\n",
    "    \n",
    "    def verify_if_in_bounds(x, y):\n",
    "        return 0 <= x < rows and 0 <= y < cols\n",
    "    \n",
    "    def generate_circle_pattern(radius):\n",
    "        pattern = []\n",
    "        for dx in range(-radius, radius + 1):\n",
    "            for dy in range(-radius, radius + 1):\n",
    "                if dx**2 + dy**2 <= radius**2:\n",
    "                    pattern.append((dx, dy))\n",
    "        return pattern\n",
    "    \n",
    "    circle_pattern = generate_circle_pattern(radius)\n",
    "    \n",
    "    for i in range(rows):\n",
    "        for j in range(cols):\n",
    "            if (grid[i][j] == 1):\n",
    "                for dx, dy in circle_pattern:\n",
    "                    ni, nj = i + dx, j + dy\n",
    "                    if verify_if_in_bounds(ni, nj):\n",
    "                        marked_matrix[ni][nj] = 1\n",
    "                        \n",
    "    return marked_matrix\n",
    "\n",
    "\n",
    "example_grid = np.array(\n",
    "    [\n",
    "    [0,0,0,0,0,0,0,0,0,0],\n",
    "    [0,2,0,0,0,0,0,2,0,0],\n",
    "    [0,0,0,0,0,0,0,0,0,0],\n",
    "    [0,0,0,0,0,0,0,0,0,0],\n",
    "    [0,0,2,0,0,0,2,0,0,0],\n",
    "    [0,0,0,1,0,0,0,0,0,0],\n",
    "    [0,0,0,0,0,0,0,0,0,0],\n",
    "    [0,0,0,0,0,0,0,0,0,0],\n",
    "    [0,0,0,0,0,0,1,1,0,0],\n",
    "    [0,0,0,0,0,0,0,0,0,0]\n",
    "]\n",
    "                 )\n",
    "\n",
    "radius = 2\n",
    "marked_matrix = insert_circle_padding(example_grid, radius)\n",
    "\n",
    "print(marked_matrix)"
   ]
  },
  {
   "cell_type": "markdown",
   "id": "1fc65d51-8bc9-4969-8249-7efc552321c0",
   "metadata": {},
   "source": [
    "### Padding in the form of a square\n",
    "Simpler padding, but worked better"
   ]
  },
  {
   "cell_type": "code",
   "execution_count": 11,
   "id": "a9a920b5-6eb7-461f-8b70-61362ba7418d",
   "metadata": {},
   "outputs": [
    {
     "name": "stdout",
     "output_type": "stream",
     "text": [
      "[[0 0 0 0 0 0 0 0 0 0]\n",
      " [0 2 0 0 0 0 0 2 0 0]\n",
      " [0 0 0 0 0 0 0 0 0 0]\n",
      " [0 0 0 0 0 0 0 0 0 0]\n",
      " [0 0 1 1 1 0 2 0 0 0]\n",
      " [0 0 1 1 1 0 0 0 0 0]\n",
      " [0 0 1 1 1 0 0 0 0 0]\n",
      " [0 0 0 0 0 1 1 1 1 0]\n",
      " [0 0 0 0 0 1 1 1 1 0]\n",
      " [0 0 0 0 0 1 1 1 1 0]]\n"
     ]
    }
   ],
   "source": [
    "def insert_square_padding(ternary_grid, padding_size):\n",
    "    rows, columns = ternary_grid.shape\n",
    "    marked_matrix = np.copy(ternary_grid)\n",
    "    \n",
    "    def verify_if_in_bounds(x, y):\n",
    "        return 0 <= x < rows and 0 <= y < columns\n",
    "    \n",
    "    def generate_square_pattern(padding_size):\n",
    "        pattern = []\n",
    "        for dx in range(-padding_size, padding_size + 1):\n",
    "            for dy in range(-padding_size, padding_size + 1):\n",
    "                pattern.append((dx, dy))\n",
    "        return pattern\n",
    "    \n",
    "    square_pattern = generate_square_pattern(padding_size)\n",
    "    \n",
    "    for i in range(rows):\n",
    "        for j in range(columns):\n",
    "            if ternary_grid[i][j] == 1:\n",
    "                for dx, dy in square_pattern:\n",
    "                    ni, nj = i + dx, j + dy\n",
    "                    if verify_if_in_bounds(ni, nj):\n",
    "                        marked_matrix[ni][nj] = 1\n",
    "                        \n",
    "    return marked_matrix\n",
    "\n",
    "example_grid = np.array(\n",
    "    [\n",
    "    [0,0,0,0,0,0,0,0,0,0],\n",
    "    [0,2,0,0,0,0,0,2,0,0],\n",
    "    [0,0,0,0,0,0,0,0,0,0],\n",
    "    [0,0,0,0,0,0,0,0,0,0],\n",
    "    [0,0,2,0,0,0,2,0,0,0],\n",
    "    [0,0,0,1,0,0,0,0,0,0],\n",
    "    [0,0,0,0,0,0,0,0,0,0],\n",
    "    [0,0,0,0,0,0,0,0,0,0],\n",
    "    [0,0,0,0,0,0,1,1,0,0],\n",
    "    [0,0,0,0,0,0,0,0,0,0]\n",
    "]\n",
    ")\n",
    "\n",
    "radius = 1\n",
    "marked_matrix = insert_square_padding(example_grid, radius)\n",
    "\n",
    "print(marked_matrix)"
   ]
  },
  {
   "cell_type": "markdown",
   "id": "c18eac94-aaa0-4363-ab25-ef02d660b5d0",
   "metadata": {},
   "source": [
    "### Frontier Detection Algorithm\n",
    "Finding edges and extracting those regions from the grid.\n",
    "\n",
    "Edges/frontiers are the cells that have a neighbor that is unknow(2s)"
   ]
  },
  {
   "cell_type": "code",
   "execution_count": 12,
   "id": "6420e6a6-30bd-4c35-a16b-77ae6f4c4a43",
   "metadata": {},
   "outputs": [
    {
     "data": {
      "text/plain": [
       "array([[0, 0, 0, 0, 0, 0, 0, 0, 0, 0],\n",
       "       [0, 0, 0, 0, 0, 0, 0, 0, 0, 0],\n",
       "       [0, 0, 0, 0, 0, 0, 0, 0, 0, 0],\n",
       "       [0, 0, 0, 0, 0, 0, 0, 0, 0, 0],\n",
       "       [0, 0, 0, 0, 0, 0, 0, 0, 0, 0],\n",
       "       [1, 1, 1, 0, 0, 0, 0, 0, 0, 0],\n",
       "       [0, 0, 0, 0, 0, 1, 1, 1, 1, 1],\n",
       "       [0, 0, 0, 0, 0, 0, 0, 0, 0, 0],\n",
       "       [0, 0, 0, 0, 0, 0, 0, 0, 0, 0],\n",
       "       [0, 0, 0, 0, 0, 0, 0, 0, 0, 0]], dtype=uint8)"
      ]
     },
     "execution_count": 12,
     "metadata": {},
     "output_type": "execute_result"
    }
   ],
   "source": [
    "# The function takes the reduced/simplified grid(withs just 0s, 1s and 2s) and\n",
    "# generates all the fronteir points in the matrix.\n",
    "# Returns a numpy array of unit8 withs 1s representing the fronteirs.\n",
    "\n",
    "def detect_frontiers(ternary_grid):\n",
    "    rows, columns = ternary_grid.shape\n",
    "    frontier_grid = np.zeros_like(ternary_grid, dtype=np.uint8)\n",
    "    \n",
    "    for i in range(rows):\n",
    "        for j in range(columns):\n",
    "            if ternary_grid[i, j] == 0:\n",
    "                neighbors = ternary_grid[max(0, i-1):min(rows, i+2), max(0, j-1):min(columns, j+2)]\n",
    "                if 2 in neighbors:\n",
    "                    frontier_grid[i, j] = 1\n",
    "    \n",
    "    return frontier_grid\n",
    "\n",
    "example_grid = np.array([\n",
    "    [1,1,1,1,1,1,1,1,1,1],\n",
    "    [0,0,0,0,0,0,0,0,0,0],\n",
    "    [0,0,0,0,0,0,0,0,0,0],\n",
    "    [0,0,0,1,1,0,0,0,0,0],\n",
    "    [0,0,0,1,1,0,0,0,0,0],\n",
    "    [0,0,0,1,1,0,0,0,0,0],\n",
    "    [2,2,2,1,1,0,0,0,0,0],\n",
    "    [2,2,2,2,2,2,2,2,2,2],\n",
    "    [2,2,2,2,2,2,2,2,2,2],\n",
    "    [2,2,2,2,2,2,2,2,2,2]\n",
    "])\n",
    "\n",
    "frontier_grid_example = detect_frontiers(example_grid)\n",
    "frontier_grid_example"
   ]
  },
  {
   "cell_type": "markdown",
   "id": "1a2cda7a-a953-4366-94d7-b18c99ca2de5",
   "metadata": {},
   "source": [
    "# Best frontiers search\n",
    "\"Best frontiers\" is relative. But two possible hipoteses are: the biggest, and the closest, considering a minimum size.\n",
    "\n",
    "Another important consideration is finding the midle of the frontier, as it's possibly the best place to go for geting the most new information. So that's done next too."
   ]
  },
  {
   "cell_type": "markdown",
   "id": "bcc1a919-1565-4943-a771-29fd552b7cb7",
   "metadata": {},
   "source": [
    "## Finding the biggest frontier \n",
    "Finding the biggest fronteir with a process analogous to edge detection and region extraction in computer vision, as suggested by Brian Yamauchi."
   ]
  },
  {
   "cell_type": "code",
   "execution_count": 13,
   "id": "8ea2c23f-fc90-448c-95e9-287fe9bc91e8",
   "metadata": {},
   "outputs": [
    {
     "name": "stdout",
     "output_type": "stream",
     "text": [
      "(5, 7)\n"
     ]
    }
   ],
   "source": [
    "def find_centroid_of_largest_frontier(frontier_grid):\n",
    "    # Label connected components(one intege for each connected component.\n",
    "    labeled_array, num_features = ndimage.label(frontier_grid)\n",
    "    \n",
    "    # Find the sizes of the connected components.\n",
    "    sizes = ndimage.sum(frontier_grid, labeled_array, range(num_features + 1))\n",
    "    \n",
    "    # Identify the largest component.\n",
    "    largest_component_label = sizes.argmax()\n",
    "    \n",
    "    # Find the coordinates of each point in the largest component.\n",
    "    largest_component_indices = np.argwhere(labeled_array == largest_component_label)\n",
    "    \n",
    "    # Calculate the centroid of the largest component, with the mean of all it's components.\n",
    "    centroid = largest_component_indices.mean(axis=0)\n",
    "    \n",
    "    # Return the coordinates of the centroid, rounded to the nearest integer.\n",
    "    return tuple(np.round(centroid).astype(int))\n",
    "\n",
    "# Example frontier grid from previous result.\n",
    "frontier_grid_example = np.array([\n",
    "    [0, 0, 0, 0, 0, 0, 0, 0, 0, 0],\n",
    "    [0, 0, 0, 0, 0, 0, 0, 0, 0, 0],\n",
    "    [0, 0, 0, 0, 0, 0, 0, 0, 0, 0],\n",
    "    [0, 0, 0, 0, 0, 0, 0, 0, 0, 0],\n",
    "    [0, 0, 0, 0, 0, 0, 1, 1, 0, 0],\n",
    "    [1, 1, 1, 0, 0, 0, 1, 0, 1, 0],\n",
    "    [0, 0, 0, 0, 1, 1, 1, 1, 1, 1],\n",
    "    [0, 0, 0, 0, 0, 0, 0, 0, 0, 0],\n",
    "    [0, 0, 0, 0, 0, 0, 0, 0, 0, 0],\n",
    "    [0, 0, 0, 0, 0, 0, 0, 0, 0, 0]\n",
    "], dtype=np.uint8)\n",
    "\n",
    "centroid_of_largest_frontier = find_centroid_of_largest_frontier(frontier_grid_example)\n",
    "print(centroid_of_largest_frontier)"
   ]
  },
  {
   "cell_type": "markdown",
   "id": "b0709404-c98d-402e-aef7-601e78db6f82",
   "metadata": {},
   "source": [
    "## Finding the closest frontier\n",
    "That has a minimum size\n",
    "\n",
    "The limit on the size is important as, in the endings of searching for unexplored points, some small areas that are impossible to reach areas, in a complicated position or even caused by some error in the occupancy grid algorithm can impossibilitate the ending of the exploring."
   ]
  },
  {
   "cell_type": "code",
   "execution_count": 14,
   "id": "a498412c-70d0-4b89-a2d0-922877385d67",
   "metadata": {},
   "outputs": [
    {
     "data": {
      "text/plain": [
       "(5, 1)"
      ]
     },
     "execution_count": 14,
     "metadata": {},
     "output_type": "execute_result"
    }
   ],
   "source": [
    "import numpy as np\n",
    "from scipy import ndimage\n",
    "\n",
    "def find_closest_frontier_with_min_size(frontier_grid, point, min_size):\n",
    "    # Label connected components\n",
    "    labeled_array, num_features = ndimage.label(frontier_grid)\n",
    "    \n",
    "    # Find the sizes of the connected components\n",
    "    sizes = ndimage.sum(frontier_grid, labeled_array, range(num_features + 1))\n",
    "    \n",
    "    # Filter components by minimum size\n",
    "    qualifying_components = [i for i in range(1, num_features + 1) if sizes[i] >= min_size]\n",
    "    \n",
    "    if not qualifying_components:\n",
    "        return None  # No component meets the minimum size requirement\n",
    "    \n",
    "    closest_frontier = None\n",
    "    min_distance = float('inf')\n",
    "    \n",
    "    for component in qualifying_components:\n",
    "        component_indices = np.argwhere(labeled_array == component)\n",
    "        # Calculate the centroid of the component\n",
    "        centroid = np.mean(component_indices, axis=0)\n",
    "        # Calculate distance to the given point\n",
    "        distance = np.linalg.norm(centroid - np.array(point))\n",
    "        if distance < min_distance:\n",
    "            min_distance = distance\n",
    "            closest_frontier = centroid.astype(int)\n",
    "    \n",
    "    return tuple(closest_frontier)\n",
    "\n",
    "# Example usage\n",
    "frontier_grid_example = np.array([\n",
    "    [0, 0, 0, 0, 0, 0, 0, 0, 0, 0],\n",
    "    [0, 0, 0, 0, 0, 0, 0, 0, 0, 0],\n",
    "    [0, 0, 0, 0, 0, 0, 0, 0, 0, 0],\n",
    "    [0, 0, 0, 0, 0, 0, 0, 0, 0, 0],\n",
    "    [0, 0, 0, 0, 0, 0, 0, 0, 0, 0],\n",
    "    [1, 1, 1, 0, 0, 0, 0, 0, 0, 0],\n",
    "    [0, 0, 0, 0, 1, 1, 1, 1, 1, 1],\n",
    "    [0, 0, 0, 0, 0, 0, 0, 0, 0, 0],\n",
    "    [0, 0, 0, 0, 0, 0, 0, 0, 0, 0],\n",
    "    [0, 0, 0, 0, 0, 0, 0, 0, 0, 0]\n",
    "], dtype=np.uint8)\n",
    "\n",
    "point = (0, 0)\n",
    "min_size = 2\n",
    "closest_frontier_point = find_closest_frontier_with_min_size(frontier_grid_example, point, min_size)\n",
    "closest_frontier_point"
   ]
  },
  {
   "cell_type": "markdown",
   "id": "4437d5e3-2ea3-4656-838b-96e0820ec6e3",
   "metadata": {},
   "source": [
    "### Find the closest frontier\n",
    "But not the centroid."
   ]
  },
  {
   "cell_type": "code",
   "execution_count": 15,
   "id": "7fd7ab6e-31b7-4a74-9ea4-d4b5c8903b03",
   "metadata": {},
   "outputs": [
    {
     "data": {
      "text/plain": [
       "(5, 0)"
      ]
     },
     "execution_count": 15,
     "metadata": {},
     "output_type": "execute_result"
    }
   ],
   "source": [
    "# Very similat to the above algorithm, but without the mean to find the centroid\n",
    "\n",
    "def find_first_point_closest_frontier_with_minimum_size(frontier_grid, point, min_size):\n",
    "    # Label connected components\n",
    "    labeled_array, num_features = ndimage.label(frontier_grid)\n",
    "    \n",
    "    # Find the sizes of the connected components.\n",
    "    sizes = ndimage.sum(frontier_grid, labeled_array, range(num_features + 1))\n",
    "    \n",
    "    # Filter components by minimum size.\n",
    "    qualifying_components = [i for i in range(1, num_features + 1) if sizes[i] >= min_size]\n",
    "    \n",
    "    if not qualifying_components:\n",
    "        return None  # No component meets the minimum size requirement.\n",
    "    \n",
    "    closest_frontier = None\n",
    "    min_distance = float('inf')\n",
    "    \n",
    "    for component in qualifying_components:\n",
    "        component_indices = np.argwhere(labeled_array == component)\n",
    "        \n",
    "        # Calculate distance to the given point.\n",
    "        for cell in component_indices:\n",
    "            distance = np.linalg.norm(np.array(cell) - np.array(point))\n",
    "            if distance < min_distance:\n",
    "                min_distance = distance\n",
    "                closest_frontier = cell\n",
    "    \n",
    "    return tuple(closest_frontier)\n",
    "\n",
    "frontier_grid_example = np.array([\n",
    "    [0, 0, 0, 0, 0, 0, 0, 0, 0, 0],\n",
    "    [0, 0, 0, 0, 0, 0, 0, 0, 0, 0],\n",
    "    [0, 0, 0, 0, 0, 0, 0, 0, 0, 0],\n",
    "    [0, 0, 0, 0, 0, 0, 0, 0, 0, 0],\n",
    "    [0, 0, 0, 0, 0, 0, 0, 0, 0, 0],\n",
    "    [1, 1, 1, 0, 0, 0, 0, 0, 0, 0],\n",
    "    [0, 0, 0, 0, 1, 1, 1, 1, 1, 1],\n",
    "    [0, 0, 0, 0, 0, 0, 0, 0, 0, 0],\n",
    "    [0, 0, 0, 0, 0, 0, 0, 0, 0, 0],\n",
    "    [0, 0, 0, 0, 0, 0, 0, 0, 0, 0]\n",
    "], dtype=np.uint8)\n",
    "\n",
    "point = (0, 0)\n",
    "min_size = 2\n",
    "closest_frontier_point = find_first_point_closest_frontier_with_minimum_size(frontier_grid_example, point, min_size)\n",
    "closest_frontier_point"
   ]
  },
  {
   "cell_type": "markdown",
   "id": "241cb12f-48f4-4fe2-8ad0-d479990eb9aa",
   "metadata": {},
   "source": [
    "## Best path to the best frontier\n",
    "Once the best frontier has been detected, the path to it should be decided too."
   ]
  },
  {
   "cell_type": "markdown",
   "id": "d2802d36-70d3-42c4-8aa4-09fb4586a455",
   "metadata": {},
   "source": [
    "### A* Algorihtm\n",
    "\n",
    "This is very similat to Dijkstra’s algorithm, but includes heuristics to optimize the pathfinding process(we choose the best next step based on the heuristic). The heuristics make the process of estimating the cost to reach the goal better, so its better know which point to explore next. It's important to note that the heursistic can ruin the algorithm if it makes an worst distance estimation. It can't overestimate distances. \n",
    "\n",
    "In this case, the Manhattan distance between two points a and b is used. A problem of the Manhattan distance, is that it isn't for diagonal paths, which we wan't."
   ]
  },
  {
   "cell_type": "code",
   "execution_count": 16,
   "id": "dc6bd42c-70f4-4948-acf8-3a79650d5734",
   "metadata": {},
   "outputs": [
    {
     "name": "stdout",
     "output_type": "stream",
     "text": [
      "[(1, 0), (1, 1), (1, 2), (1, 3), (1, 4), (1, 5), (2, 5), (3, 5), (3, 6), (3, 7), (3, 8), (4, 8), (5, 8), (6, 8), (6, 7), (6, 6), (5, 6), (5, 5)]\n"
     ]
    }
   ],
   "source": [
    "def heuristic(a, b):\n",
    "    return abs(a[0] - b[0]) + abs(a[1] - b[1])\n",
    "\n",
    "def astar(array, start, goal):\n",
    "    neighbors = [(0, 1), (1, 0), (0, -1), (-1, 0)]\n",
    "    \n",
    "    close_set = set()\n",
    "    came_from = {}\n",
    "    gscore = {start: 0}\n",
    "    fscore = {start: heuristic(start, goal)}\n",
    "    oheap = []\n",
    "\n",
    "    heapq.heappush(oheap, (fscore[start], start))\n",
    "    \n",
    "    while oheap:\n",
    "        current = heapq.heappop(oheap)[1]\n",
    "        \n",
    "        if current == goal:\n",
    "            data = []\n",
    "            while current in came_from:\n",
    "                data.append(current)\n",
    "                current = came_from[current]\n",
    "            data.append(start)\n",
    "            return data[::-1]\n",
    "        \n",
    "        close_set.add(current)\n",
    "        for i, j in neighbors:\n",
    "            neighbor = current[0] + i, current[1] + j\n",
    "            tentative_g_score = gscore[current] + 1\n",
    "            \n",
    "            if 0 <= neighbor[0] < array.shape[0]:\n",
    "                if 0 <= neighbor[1] < array.shape[1]:\n",
    "                    if array[neighbor[0]][neighbor[1]] != 0:\n",
    "                        continue\n",
    "                else:\n",
    "                    continue\n",
    "            else:\n",
    "                continue\n",
    "                \n",
    "            if neighbor in close_set and tentative_g_score >= gscore.get(neighbor, 0):\n",
    "                continue\n",
    "                \n",
    "            if tentative_g_score < gscore.get(neighbor, 0) or neighbor not in [i[1] for i in oheap]:\n",
    "                came_from[neighbor] = current\n",
    "                gscore[neighbor] = tentative_g_score\n",
    "                fscore[neighbor] = tentative_g_score + heuristic(neighbor, goal)\n",
    "                heapq.heappush(oheap, (fscore[neighbor], neighbor))\n",
    "    \n",
    "    return False\n",
    "\n",
    "# Example usage\n",
    "grid_example = np.array([\n",
    "    [1,1,1,1,1,1,1,1,1,1],\n",
    "    [0,0,0,0,0,0,0,0,0,0],\n",
    "    [0,0,0,0,0,0,0,0,0,0],\n",
    "    [0,0,0,0,0,0,0,0,0,0],\n",
    "    [0,0,0,1,1,1,1,1,0,0],\n",
    "    [0,0,0,1,0,0,0,1,0,0],\n",
    "    [2,2,2,1,0,0,0,0,0,0],\n",
    "    [2,2,2,2,2,2,2,2,2,2],\n",
    "    [2,2,2,2,2,2,2,2,2,2],\n",
    "    [2,2,2,2,2,2,2,2,2,2]\n",
    "])\n",
    "\n",
    "start = (1, 0)\n",
    "end = (5, 5)\n",
    "path = astar(grid_example, start, end)\n",
    "print(path)"
   ]
  },
  {
   "cell_type": "markdown",
   "id": "4560230d-8e2c-4319-a7e7-fc6397fa0860",
   "metadata": {},
   "source": [
    "### Algorithm that allows for diagonal moves\n",
    "The first algorithm is't so fluid because it's affect by its incapability of moving diagonaly! What a shame...\n",
    "\n",
    "This algorithm fixes that problem, allowing diagonal moves, making the path shorter in most cases, and never longer.\n",
    "\n",
    "Diagonal moves are from cells (1, 1) to (2,2) or (1,2) to (2,3) for example. \n",
    "\n",
    "Most importantly, the neighbors now include diagonally located nodes."
   ]
  },
  {
   "cell_type": "code",
   "execution_count": 17,
   "id": "ba14333d-fec5-4c7e-af73-2de7ece086fb",
   "metadata": {},
   "outputs": [
    {
     "name": "stdout",
     "output_type": "stream",
     "text": [
      "Example Path: [[1 0]\n",
      " [2 1]\n",
      " [3 2]\n",
      " [3 3]\n",
      " [3 4]\n",
      " [3 5]\n",
      " [3 6]\n",
      " [3 7]\n",
      " [4 8]\n",
      " [5 8]\n",
      " [6 7]\n",
      " [6 6]\n",
      " [6 5]\n",
      " [6 4]]\n"
     ]
    }
   ],
   "source": [
    "import heapq\n",
    "import numpy as np\n",
    "\n",
    "'''def heuristic(a, b):\n",
    "    # Heuristic function for A* (Chebyshev distance).\n",
    "    return max(abs(a[0] - b[0]), abs(a[1] - b[1]))'''\n",
    "\n",
    "def heuristic(a, b):\n",
    "    # Heuristic function for A* (Chebyshev distance).\n",
    "    return ((a[0] - b[0])**2 + (a[1] - b[1])**2)**0.5\n",
    "\n",
    "def astar_with_diagonals(grid, start, goal):\n",
    "    start = tuple(start)\n",
    "    goal = tuple(goal)\n",
    "    # Diagonal moves allowed.\n",
    "    neighbors = [(0, 1), (1, 0), (0, -1), (-1, 0), (1, 1), (1, -1), (-1, 1), (-1, -1)]\n",
    "    \n",
    "    close_set = set()\n",
    "    came_from = {}\n",
    "    gscore = {start: 0}\n",
    "    fscore = {start: heuristic(start, goal)}\n",
    "    oheap = []\n",
    "\n",
    "    heapq.heappush(oheap, (fscore[start], start))\n",
    "    \n",
    "    best_node = start\n",
    "    best_distance = heuristic(start, goal)\n",
    "    \n",
    "    while oheap:\n",
    "        current = heapq.heappop(oheap)[1]\n",
    "        \n",
    "        if current == goal:\n",
    "            data = []\n",
    "            while current in came_from:\n",
    "                data.append(current)\n",
    "                current = came_from[current]\n",
    "            data.append(start)\n",
    "            return np.array(data[::-1])\n",
    "        \n",
    "        close_set.add(current)\n",
    "        for i, j in neighbors:\n",
    "            neighbor = current[0] + i, current[1] + j\n",
    "            tentative_g_score = gscore[current] + 1\n",
    "\n",
    "            if 0 <= neighbor[0] < grid.shape[0]:\n",
    "                if 0 <= neighbor[1] < grid.shape[1]:\n",
    "                    if grid[neighbor[0]][neighbor[1]] in [1, 2]:\n",
    "                        continue\n",
    "                else:\n",
    "                    continue\n",
    "            else:\n",
    "                continue\n",
    "            \n",
    "            distance_to_goal = heuristic(neighbor, goal)\n",
    "            if distance_to_goal < best_distance:\n",
    "                best_node = neighbor\n",
    "                best_distance = distance_to_goal\n",
    "                \n",
    "            if neighbor in close_set and tentative_g_score >= gscore.get(neighbor, float('inf')):\n",
    "                continue\n",
    "                \n",
    "            if tentative_g_score < gscore.get(neighbor, float('inf')) or neighbor not in [i[1] for i in oheap]:\n",
    "                came_from[neighbor] = current\n",
    "                gscore[neighbor] = tentative_g_score\n",
    "                fscore[neighbor] = tentative_g_score + distance_to_goal\n",
    "                heapq.heappush(oheap, (fscore[neighbor], neighbor))\n",
    "    \n",
    "    # If the goal is not reachable, return the path to the closest point found.\n",
    "    print(\"Exact path to goal not found. Returning path to the closest available point.\")\n",
    "    current = best_node\n",
    "    data = []\n",
    "    while current in came_from:\n",
    "        data.append(current)\n",
    "        current = came_from[current]\n",
    "    data.append(start)\n",
    "    return np.array(data[::-1])\n",
    "\n",
    "grid_example = np.array([\n",
    "    [1,1,1,1,1,1,1,1,1,1],\n",
    "    [0,0,0,0,0,0,0,0,0,0],\n",
    "    [0,0,0,0,0,0,0,0,0,0],\n",
    "    [0,0,0,0,0,0,0,0,0,0],\n",
    "    [0,0,0,1,1,1,1,1,0,0],\n",
    "    [0,0,0,1,0,0,0,1,0,0],\n",
    "    [2,2,2,1,0,0,0,0,0,0],\n",
    "    [2,2,2,2,2,2,2,2,2,2],\n",
    "    [2,2,2,2,2,2,2,2,2,2],\n",
    "    [2,2,2,2,2,2,2,2,2,2]\n",
    "])\n",
    "\n",
    "start_ex = [1, 0]\n",
    "end_ex = [6, 4]\n",
    "path_ex = astar_with_diagonals(grid_example, start_ex, end_ex)\n",
    "print(\"Example Path:\", path_ex)"
   ]
  },
  {
   "cell_type": "markdown",
   "id": "743941ab-4325-4cb9-b242-83eae2183c3a",
   "metadata": {},
   "source": [
    "### Ramer-Douglas-Peucker algorithm to simplify the path.\n",
    "It takes an array of points and epsilon, the distance threshold for simplification.\n",
    "\n",
    "It returns a simplified array of points.\n",
    "\n",
    "`add_intermediate_points` will add points to the path if there are too few. max_distance is the max distance allowed between points"
   ]
  },
  {
   "cell_type": "code",
   "execution_count": 18,
   "id": "a462bd99-0577-495e-ba5e-101ff931c30a",
   "metadata": {},
   "outputs": [
    {
     "name": "stdout",
     "output_type": "stream",
     "text": [
      "Original Points:\n",
      " [[ 0.   0. ]\n",
      " [ 1.   0.1]\n",
      " [ 2.  -0.1]\n",
      " [ 3.   5. ]\n",
      " [ 4.   6. ]\n",
      " [ 5.   7. ]\n",
      " [ 6.   8.1]\n",
      " [ 7.   9. ]\n",
      " [ 8.   9.1]\n",
      " [ 9.   9. ]]\n",
      "Simplified Points:\n",
      " [[ 0.   0. ]\n",
      " [ 2.  -0.1]\n",
      " [ 3.   5. ]\n",
      " [ 7.   9. ]\n",
      " [ 9.   9. ]]\n",
      "Final Points with Intermediate Points Added:\n",
      " [[ 0.          0.        ]\n",
      " [ 0.66666667 -0.03333333]\n",
      " [ 1.33333333 -0.06666667]\n",
      " [ 2.         -0.1       ]\n",
      " [ 2.16666667  0.75      ]\n",
      " [ 2.33333333  1.6       ]\n",
      " [ 2.5         2.45      ]\n",
      " [ 2.66666667  3.3       ]\n",
      " [ 2.83333333  4.15      ]\n",
      " [ 3.          5.        ]\n",
      " [ 3.66666667  5.66666667]\n",
      " [ 4.33333333  6.33333333]\n",
      " [ 5.          7.        ]\n",
      " [ 5.66666667  7.66666667]\n",
      " [ 6.33333333  8.33333333]\n",
      " [ 7.          9.        ]\n",
      " [ 8.          9.        ]\n",
      " [ 9.          9.        ]]\n"
     ]
    }
   ],
   "source": [
    "import numpy as np\n",
    "\n",
    "def rdp(points, epsilon):\n",
    "    if len(points) < 3:\n",
    "        return points\n",
    "\n",
    "    def perpendicular_distance(point, start, end):\n",
    "        if np.array_equal(start, end):\n",
    "            return np.linalg.norm(point - start)\n",
    "        return np.linalg.norm(np.cross(end-start, start-point)) / np.linalg.norm(end-start)\n",
    "    \n",
    "    start, end = points[0], points[-1]\n",
    "    dmax, index = max((perpendicular_distance(points[i], start, end), i) for i in range(1, len(points) - 1))\n",
    "    if dmax > epsilon:\n",
    "        results1 = rdp(points[:index+1], epsilon)\n",
    "        results2 = rdp(points[index:], epsilon)\n",
    "        return np.vstack((results1[:-1], results2))\n",
    "    else:\n",
    "        return np.array([start, end])\n",
    "\n",
    "def add_intermediate_points(points, max_distance):\n",
    "    new_points = [points[0]]\n",
    "    for i in range(1, len(points)):\n",
    "        start, end = points[i-1], points[i]\n",
    "        segment_length = np.linalg.norm(end - start)\n",
    "        if segment_length > max_distance:\n",
    "            num_intermediate_points = int(np.ceil(segment_length / max_distance))\n",
    "            for j in range(1, num_intermediate_points):\n",
    "                new_points.append(start + j * (end - start) / num_intermediate_points)\n",
    "        new_points.append(end)\n",
    "    return np.array(new_points)\n",
    "\n",
    "# Example usage\n",
    "points = np.array([\n",
    "    [0, 0],\n",
    "    [1, 0.1],\n",
    "    [2, -0.1],\n",
    "    [3, 5],\n",
    "    [4, 6],\n",
    "    [5, 7],\n",
    "    [6, 8.1],\n",
    "    [7, 9],\n",
    "    [8, 9.1],\n",
    "    [9, 9]\n",
    "])\n",
    "\n",
    "epsilon = 0.5\n",
    "simplified_points = rdp(points, epsilon)\n",
    "print(\"Original Points:\\n\", points)\n",
    "print(\"Simplified Points:\\n\", simplified_points)\n",
    "\n",
    "max_distance = 1\n",
    "final_points = add_intermediate_points(simplified_points, max_distance)\n",
    "print(\"Final Points with Intermediate Points Added:\\n\", final_points)"
   ]
  },
  {
   "cell_type": "markdown",
   "id": "2cc36fff-e161-4b26-a9c2-3757798f5948",
   "metadata": {},
   "source": [
    "## Tying all functions together\n",
    "This funtion will output the path in the grid coordinates\n",
    "\n",
    "Padding is decided based on the robot size, 0.3 and the cell size, Minimum Frontier size too, but with a bigger margin.\n",
    "All these varables can be changed, but at the risk of making the robot crash or not dicovering enough areas."
   ]
  },
  {
   "cell_type": "code",
   "execution_count": 19,
   "id": "259f3385-7481-4889-b414-afc94b0d9d64",
   "metadata": {},
   "outputs": [],
   "source": [
    "def find_path_to_explore(grid, left_motor_handle, right_motor_handle,\n",
    "                          robot_handle, velocity, cell_size):\n",
    "    # Plot path or not.\n",
    "    plot_path = True\n",
    "\n",
    "    Grid.update()\n",
    "    \n",
    "    padding_needed = math.ceil(0.35/cell_size)-1\n",
    "    frontier_minimum_size = math.ceil(0.35/cell_size)*3\n",
    "    \n",
    "    reduced_grid = reduce_grid(grid)\n",
    "    padded_grid = insert_square_padding(reduced_grid, padding_needed)\n",
    "    frontiers_grid = detect_frontiers(padded_grid)\n",
    "\n",
    "    robot_position = np.array(sim.getObjectPosition(robot_handle)[:2:])\n",
    "    robot_position = ((robot_position + 5) / cell_size).astype(int)\n",
    "\n",
    "    if (find_closest_frontier_with_min_size(frontiers_grid, robot_position, frontier_minimum_size) == None):\n",
    "        print(\"No frontier left with size big enought\")\n",
    "        return 1\n",
    "    \n",
    "    goal_point = find_closest_frontier_with_min_size(frontiers_grid, robot_position, frontier_minimum_size)\n",
    "\n",
    "    best_path_to_goal_points = np.array(astar_with_diagonals(padded_grid, robot_position, goal_point))\n",
    "\n",
    "    best_path_to_goal_points = (best_path_to_goal_points * cell_size) - 5\n",
    "\n",
    "    epsilon = 0.05\n",
    "    best_path_to_goal_points = rdp(best_path_to_goal_points, epsilon)\n",
    "    #best_path_to_goal_points = add_intermediate_points(best_path_to_goal_points, 0.15)\n",
    "\n",
    "    # When the function astar_with_diagonals does't return, we got best_path_to_goal_points equal to 5\n",
    "    # so here we check if its a list or not. If it's not, it didn't find a path.\n",
    "    # It's valid to note that in the case of the path being one point, its considered a list too.\n",
    "    try: len(best_path_to_goal_points)\n",
    "    except:\n",
    "        goal_point = find_centroid_of_largest_frontier(frontiers_grid)\n",
    "        best_path_to_goal_points = np.array(astar_with_diagonals(padded_grid, robot_position, goal_point))\n",
    "        best_path_to_goal_points = (best_path_to_goal_points * cell_size) - 5\n",
    "        epsilon = 0.05\n",
    "        best_path_to_goal_points = rdp(best_path_to_goal_points, epsilon)\n",
    "        best_path_to_goal_points = add_intermediate_points(best_path_to_goal_points, 0.15)\n",
    "    \n",
    "    try: len(best_path_to_goal_points)\n",
    "    except:\n",
    "        print(\"Couldn't find a path to biggest one too\")\n",
    "        return 1\n",
    "\n",
    "    if plot_path:\n",
    "        Grid.plot_path(best_path_to_goal_points)\n",
    "        \n",
    "    # Iterator to track the number of the movement we are in\n",
    "    im = 0\n",
    "    for path_point in best_path_to_goal_points:\n",
    "        if (move_to_point_on_world(left_motor_handle, right_motor_handle,\n",
    "                                   robot_handle, path_point, velocity) == 1):\n",
    "            return\n",
    "    im+=1\n",
    "        \n",
    "\n",
    "    rotate_360(left_motor_handle, right_motor_handle,\n",
    "                robot_handle, velocity)\n",
    "\n",
    "    print(\"Arrived at a Frontier\")\n",
    "    return "
   ]
  },
  {
   "cell_type": "markdown",
   "id": "f3918b3c-2bda-44b0-aa0e-ea043a826961",
   "metadata": {},
   "source": [
    "### Defining the class of the grid itself"
   ]
  },
  {
   "cell_type": "code",
   "execution_count": 20,
   "id": "c5de962f-a940-4c8f-9d97-dbf19a61b501",
   "metadata": {},
   "outputs": [],
   "source": [
    "# It should take:\n",
    "# Size of the x dimension of the Grid.\n",
    "# Size of the y dimension of the Grid.\n",
    "# Cell size (the unit of the grid, that is, if its 0.1, each 1 by 1 cell in the grid \n",
    "# will have a 0.1 by 0.1 size correspondace.\n",
    "# Sensor confidance (prob of x given zt, p(x|zt)) for the positive reading(occupied).\n",
    "# The handle of the sensor to  get it's position.\n",
    "\n",
    "\n",
    "# Grid.update() -> Updates the grid information with new probabilities based on new measures\n",
    "# of the sensor made in the time of the call.\n",
    "\n",
    "# Grid.plot_grid() -> Plots the current occupancy grid\n",
    "\n",
    "class OccupancyGrid():\n",
    "    def __init__(self, x_dimension, y_dimension, cell_size, sensor_confidence, sensor_handle, robot_handle,\n",
    "                left_motor_handle, right_motor_handle, velocity):\n",
    "        \n",
    "        self.x = 10\n",
    "        self.y = 10\n",
    "        self.cell_size = cell_size\n",
    "        self.sensor_handle = sensor_handle\n",
    "        self.robot_handle = robot_handle\n",
    "        self.left_motor_handle = left_motor_handle\n",
    "        self.right_motor_handle = right_motor_handle\n",
    "        self.velocity = velocity\n",
    "        \n",
    "        self.grid = np.zeros((int(x_dimension / cell_size), int(y_dimension / cell_size)))\n",
    "        self.sensor_confidence = sensor_confidence\n",
    "\n",
    "    def update(self):\n",
    "        occupied_cells, off_limit_cells = sensor_data_to_world(self.sensor_handle)\n",
    "        \n",
    "        sensor_xy_coordinates = sim.getObjectPosition(self.sensor_handle)\n",
    "        \n",
    "        del sensor_xy_coordinates[-1]\n",
    "        \n",
    "        translated_sensor_coordinates = ((np.array(sensor_xy_coordinates) + 5) / self.cell_size)\n",
    "        translated_occupied_cells = ((occupied_cells + 5) / self.cell_size)\n",
    "\n",
    "        # Doing the unoccupied first matters, if not, it will erase the occupied marked cells\n",
    "        # from the occupied part.\n",
    "        unoccupied_cells = find_unoccupied_cells(translated_occupied_cells, translated_sensor_coordinates)\n",
    "\n",
    "        for cell in unoccupied_cells:\n",
    "            x = int(cell[0])\n",
    "            y = int(cell[1])\n",
    "            \n",
    "            if (x >= 10/self.cell_size):\n",
    "                x = int(10/self.cell_size - 1)\n",
    "            elif (x < 0):\n",
    "                x = 0\n",
    "                \n",
    "            if (y >= 10/self.cell_size):\n",
    "                y = int(10/self.cell_size - 1)\n",
    "            elif (y < 0):\n",
    "                y = 0\n",
    "\n",
    "            try: \n",
    "                self.grid[x][y]\n",
    "            except:\n",
    "                print(\"WTF:\",x , y)\n",
    "            \n",
    "            \n",
    "            if self.grid[x][y] > 1.05 :\n",
    "                lg_odd = log_odds((1 - self.sensor_confidence), self.grid[x][y])\n",
    "                self.grid[x][y] = lg_odd\n",
    "            else:\n",
    "                lg_odd = log_odds((1 - self.sensor_confidence + 0.35), self.grid[x][y])\n",
    "                self.grid[x][y] = lg_odd\n",
    "    \n",
    "\n",
    "        i = 0\n",
    "        for cell in translated_occupied_cells:\n",
    "            if not(off_limit_cells[i]):\n",
    "                x = int(cell[0])\n",
    "                y = int(cell[1])\n",
    "                \n",
    "                if (x >= 10/self.cell_size):\n",
    "                    x = int(10/self.cell_size - 1)\n",
    "                elif(x < 0):\n",
    "                    x = 0\n",
    "                \n",
    "                if (y >= 10/self.cell_size):\n",
    "                    y = int(10/self.cell_size - 1)\n",
    "                elif (y < 0):\n",
    "                    y = 0\n",
    "\n",
    "                try: \n",
    "                    lg_odd = log_odds(self.sensor_confidence, self.grid[x][y])\n",
    "                except:\n",
    "                    print(\"WTF:\",x , y)\n",
    "                self.grid[x][y] = lg_odd\n",
    "            i +=1\n",
    "\n",
    "    def get_grid(self):\n",
    "        return self.grid\n",
    "\n",
    "    def plot_path(self, path_points):\n",
    "        reduced_grid = reduce_grid(self.grid)\n",
    "            \n",
    "        fig = plt.figure(figsize=(9,8), dpi=100)\n",
    "        ax = fig.add_subplot(111, aspect='equal')\n",
    "            \n",
    "        map_size = np.array([self.x, self.y])\n",
    "        cell_size = 1\n",
    "            \n",
    "        rows, cols = (map_size/cell_size).astype(int)\n",
    "            \n",
    "        m = reduced_grid\n",
    "            \n",
    "        plt.imshow(m, cmap='Greys', origin='upper', extent=(0, cols, rows, 0))\n",
    "            \n",
    "        ax.set_xticks(np.arange(0, cols, cell_size))\n",
    "        ax.set_yticks(np.arange(0, rows, cell_size))\n",
    "\n",
    "        path_points_array = path_points + 5\n",
    "        ax.plot(path_points_array[:, 1], path_points_array[:, 0], 'ro-', linewidth=2, markersize=5)\n",
    "\n",
    "        if len(path_points_array) > 0:\n",
    "            last_point = path_points_array[-1]\n",
    "            ax.plot(last_point[1], last_point[0], 'bo', markersize=10)\n",
    "            ax.annotate('Goal', (last_point[1], last_point[0]), textcoords=\"offset points\", xytext=(0,10), ha='center', color='blue')\n",
    "        \n",
    "        plt.colorbar()\n",
    "        plt.show()\n",
    "\n",
    "\n",
    "    # Plot the wanted grids, grid passed as True will be ploted when the program finishes running.\n",
    "    def plot_grid_var(self, probability_grid_plot = False, reduced_grid_plot = False,\n",
    "                  padded_grid_plot = False, frontiers_grid_plot = False):\n",
    "        \n",
    "        reduced_grid = reduce_grid(self.grid)\n",
    "\n",
    "        # Here the padding size follow the padding defined in the path exploring functino        \n",
    "        padded_grid = insert_square_padding(reduced_grid, math.ceil(0.3/self.cell_size))\n",
    "\n",
    "        frontiers_grid = detect_frontiers(padded_grid)\n",
    "\n",
    "        if probability_grid_plot:\n",
    "            fig = plt.figure(figsize=(9,8), dpi=100)\n",
    "            ax = fig.add_subplot(111, aspect='equal')\n",
    "            \n",
    "            map_size = np.array([self.x, self.y])\n",
    "            cell_size = 1\n",
    "            \n",
    "            rows, cols = (map_size/cell_size).astype(int)\n",
    "            \n",
    "            m = odds_to_probability_array(self.grid)\n",
    "            \n",
    "            plt.imshow(m, cmap='Greys', origin='upper', extent=(0, cols, rows, 0))\n",
    "            \n",
    "            ax.set_xticks(np.arange(0, cols, cell_size))\n",
    "            ax.set_yticks(np.arange(0, rows, cell_size))\n",
    "            \n",
    "            plt.colorbar()\n",
    "            \n",
    "        if reduced_grid_plot:\n",
    "            fig = plt.figure(figsize=(9,8), dpi=100)\n",
    "            ax = fig.add_subplot(111, aspect='equal')\n",
    "            \n",
    "            map_size = np.array([self.x, self.y])\n",
    "            cell_size = 1\n",
    "            \n",
    "            rows, cols = (map_size/cell_size).astype(int)\n",
    "            \n",
    "            m = reduced_grid\n",
    "            \n",
    "            plt.imshow(m, cmap='Greys', origin='upper', extent=(0, cols, rows, 0))\n",
    "            \n",
    "            ax.set_xticks(np.arange(0, cols, cell_size))\n",
    "            ax.set_yticks(np.arange(0, rows, cell_size))\n",
    "            \n",
    "            plt.colorbar()\n",
    "        if padded_grid_plot:\n",
    "            fig = plt.figure(figsize=(9,8), dpi=100)\n",
    "            ax = fig.add_subplot(111, aspect='equal')\n",
    "            \n",
    "            map_size = np.array([self.x, self.y])\n",
    "            cell_size = 1\n",
    "            \n",
    "            rows, cols = (map_size/cell_size).astype(int)\n",
    "            \n",
    "            m = padded_grid\n",
    "            \n",
    "            plt.imshow(m, cmap='Greys', origin='upper', extent=(0, cols, rows, 0))\n",
    "            \n",
    "            ax.set_xticks(np.arange(0, cols, cell_size))\n",
    "            ax.set_yticks(np.arange(0, rows, cell_size))\n",
    "            \n",
    "            plt.colorbar()\n",
    "        if frontiers_grid_plot:\n",
    "            fig = plt.figure(figsize=(9,8), dpi=100)\n",
    "            ax = fig.add_subplot(111, aspect='equal')\n",
    "            \n",
    "            map_size = np.array([self.x, self.y])\n",
    "            cell_size = 1\n",
    "            \n",
    "            rows, cols = (map_size/cell_size).astype(int)\n",
    "            \n",
    "            m = frontiers_grid\n",
    "            \n",
    "            plt.imshow(m, cmap='Greys', origin='upper', extent=(0, cols, rows, 0))\n",
    "            \n",
    "            ax.set_xticks(np.arange(0, cols, cell_size))\n",
    "            ax.set_yticks(np.arange(0, rows, cell_size))\n",
    "            \n",
    "            plt.colorbar()\n",
    "\n",
    "        plt.show()"
   ]
  },
  {
   "cell_type": "markdown",
   "id": "57087c65-785a-49f6-a841-98d9745f69d8",
   "metadata": {},
   "source": [
    "## Robot's Control\n",
    "Here, the simpler aproach of controling with 4 motions is taken: F(forward) B(Backward) R(Right) L(Left).\n",
    "In reality, backward specifically won't be needed.\n",
    "\n",
    "So we turn to the desired angle and go straight. Counting on the granilarity of our pathing to make more harmonious, quick and optimal moves.\n",
    "\n",
    "Here, the values of the angles are given in radians(and in all of the program). from 0 to 360 degrees we start ate zero and go to pi, from 180 to 181 we go from pi to minus pi. 181 to 360 we go from minus pi to \"minus zero\"."
   ]
  },
  {
   "cell_type": "markdown",
   "id": "396c832a-c63f-46ae-b0aa-0c45434aede0",
   "metadata": {},
   "source": [
    "### Robot turning forward or backward\n",
    "About turning in place, the important consideration is to turn to the correct direction. Clockwise or Counterclokwise can make a difference."
   ]
  },
  {
   "cell_type": "code",
   "execution_count": 21,
   "id": "a83e515c-17f1-4e96-bb1f-c6d5146f8247",
   "metadata": {},
   "outputs": [],
   "source": [
    "# The angles should be passed in radians.\n",
    "# If the angle difference is negative, turn clockwise.\n",
    "# If the angle difference is positive, turn counterclockwise.\n",
    "# velocity is the veloccity that the wheels should turn.\n",
    "\n",
    "def normalize_angle(angle_objective):\n",
    "    return math.atan2(math.sin(angle_objective), math.cos(angle_objective))\n",
    "\n",
    "def rotate(left_motor_handle, right_motor_handle, robot_handle, velocity, goal_angle):\n",
    "    goal_angle = normalize_angle(goal_angle)\n",
    "    \n",
    "    while True:\n",
    "        #Grid.update()\n",
    "        current_angle = normalize_angle(sim.getObjectOrientation(robot_handle)[2])\n",
    "        angle_difference = normalize_angle(goal_angle - current_angle)\n",
    "        \n",
    "        if abs(angle_difference) < 0.002:\n",
    "            sim.setJointTargetVelocity(left_motor_handle, 0)\n",
    "            sim.setJointTargetVelocity(right_motor_handle, 0)\n",
    "            break\n",
    "        \n",
    "        if angle_difference > 0:\n",
    "            sim.setJointTargetVelocity(left_motor_handle, -velocity*8*abs(angle_difference))\n",
    "            sim.setJointTargetVelocity(right_motor_handle, velocity*8*abs(angle_difference))\n",
    "        else:\n",
    "            sim.setJointTargetVelocity(left_motor_handle, velocity*8*abs(angle_difference))\n",
    "            sim.setJointTargetVelocity(right_motor_handle, -velocity*8*abs(angle_difference))\n"
   ]
  },
  {
   "cell_type": "markdown",
   "id": "46433808-d297-449e-a66e-bcc909bb6998",
   "metadata": {},
   "source": [
    "### Robot doing a 360\n",
    "No, it isn't just to make a cool move, but to get information about the enviroment the robot is in.\n",
    "\n",
    "The values multiplied by the velocity are for the scan to be slower, as its important for information correctness. "
   ]
  },
  {
   "cell_type": "code",
   "execution_count": 22,
   "id": "5704a230-c23f-4eb1-bd9c-34f22ac9b9da",
   "metadata": {},
   "outputs": [],
   "source": [
    "def rotate_360(left_motor_handle, right_motor_handle, robot_handle, velocity):\n",
    "    initial_angle = normalize_angle(sim.getObjectOrientation(robot_handle)[2])\n",
    "    total_rotation = 0\n",
    "\n",
    "    sim.setJointTargetVelocity(left_motor_handle, -0.7)\n",
    "    sim.setJointTargetVelocity(right_motor_handle, 0.7)\n",
    "\n",
    "    previous_angle = initial_angle\n",
    "\n",
    "    while True:\n",
    "        Grid.update()\n",
    "        current_angle = normalize_angle(sim.getObjectOrientation(robot_handle)[2])\n",
    "        angle_difference = normalize_angle(current_angle - previous_angle)\n",
    "        \n",
    "        # Accumulate the total rotation\n",
    "        total_rotation += angle_difference\n",
    "        previous_angle = current_angle\n",
    "\n",
    "        # Check if a full 360-degree rotation has been achieved\n",
    "        if abs(total_rotation) >= 2 * math.pi - 0.1:  # Allow a small tolerance\n",
    "            sim.setJointTargetVelocity(left_motor_handle, 0)\n",
    "            sim.setJointTargetVelocity(right_motor_handle, 0)\n",
    "            break"
   ]
  },
  {
   "cell_type": "markdown",
   "id": "852eec92-8342-4727-a2dd-90d4f3a8aaac",
   "metadata": {},
   "source": [
    "### Robot complete movimentation\n",
    "Moving the robot between points."
   ]
  },
  {
   "cell_type": "code",
   "execution_count": 23,
   "id": "93f5efc0-7e2b-4009-ba22-de84626cdd38",
   "metadata": {},
   "outputs": [],
   "source": [
    "# In the world coordinates\n",
    "\n",
    "def angle_from_point1_to_point2(point1, point2):  \n",
    "    delta_x = point2[0] - point1[0]\n",
    "    delta_y = point2[1] - point1[1]\n",
    "\n",
    "    \n",
    "    angle = math.atan2(delta_y, delta_x)\n",
    "    \n",
    "    return angle"
   ]
  },
  {
   "cell_type": "code",
   "execution_count": 24,
   "id": "7bd918a6-53fc-47bc-b983-bde2d779d524",
   "metadata": {},
   "outputs": [],
   "source": [
    "def euclidean_distance(point1, point2):\n",
    "    x1, y1 = point1\n",
    "    x2, y2 = point2\n",
    "    return math.sqrt((x2 - x1)**2 + (y2 - y1)**2)"
   ]
  },
  {
   "cell_type": "code",
   "execution_count": 25,
   "id": "a06df1e7-016c-427e-9096-624409b200c3",
   "metadata": {},
   "outputs": [],
   "source": [
    "def move_to_point_on_world(left_motor_handle, right_motor_handle, robot_handle, point_objective_world, velocity):\n",
    "    robot_point_on_world = np.array(sim.getObjectPosition(robot_handle)[:2:])\n",
    "\n",
    "    emergency_point = robot_point_on_world\n",
    "    \n",
    "    angle_objective = angle_from_point1_to_point2(robot_point_on_world, point_objective_world)\n",
    "\n",
    "    rotate(left_motor_handle, right_motor_handle, robot_handle, velocity*0.4, angle_objective)\n",
    "\n",
    "    distance_tolerance = 0.1\n",
    "\n",
    "    sim.setJointTargetVelocity(left_motor_handle, velocity)\n",
    "    sim.setJointTargetVelocity(right_motor_handle, velocity)\n",
    "    \n",
    "    while True:\n",
    "        #Grid.update()\n",
    "        robot_point_on_world = np.array(sim.getObjectPosition(robot_handle)[:2:])\n",
    "        \n",
    "        distance_to_target = euclidean_distance(robot_point_on_world, point_objective_world)\n",
    "\n",
    "        _, too_close = sensor_processing_to_robot_coordinates()\n",
    "        for i in too_close:\n",
    "            if (i == 2):\n",
    "                sim.setJointTargetVelocity(left_motor_handle, 0)\n",
    "                sim.setJointTargetVelocity(right_motor_handle, 0)\n",
    "                print(\"Too close. Emergency mode\")\n",
    "\n",
    "                # If it comes too close to an obstacle, move back to the old position\n",
    "                move_to_point_on_world_non_stop(left_motor_handle, right_motor_handle, robot_handle, emergency_point, velocity)\n",
    "                rotate_360(left_motor_handle, right_motor_handle, robot_handle, velocity)\n",
    "                return 1\n",
    "            \n",
    "        \n",
    "        if distance_to_target < distance_tolerance:\n",
    "            sim.setJointTargetVelocity(left_motor_handle, 0)\n",
    "            sim.setJointTargetVelocity(right_motor_handle, 0)\n",
    "            Grid.update()\n",
    "            break\n",
    "\n",
    "        Grid.update()"
   ]
  },
  {
   "cell_type": "code",
   "execution_count": 26,
   "id": "c9f8810e-fa00-450b-8393-ad762b44f62a",
   "metadata": {},
   "outputs": [],
   "source": [
    "# Same as the above function, but doesnt stop if too close to the obstacle\n",
    "def move_to_point_on_world_non_stop(left_motor_handle, right_motor_handle, robot_handle, point_objective_world, velocity):\n",
    "    robot_point_on_world_non_stop = np.array(sim.getObjectPosition(robot_handle)[:2:])\n",
    "    \n",
    "    angle_objective = angle_from_point1_to_point2(robot_point_on_world_non_stop, point_objective_world)\n",
    "\n",
    "    rotate(left_motor_handle, right_motor_handle, robot_handle, velocity*0.4, angle_objective)\n",
    "\n",
    "    distance_tolerance = 0.1\n",
    "\n",
    "    sim.setJointTargetVelocity(left_motor_handle, velocity)\n",
    "    sim.setJointTargetVelocity(right_motor_handle, velocity)\n",
    "    \n",
    "    while True:\n",
    "        #Grid.update()\n",
    "        robot_point_on_world_non_stop = np.array(sim.getObjectPosition(robot_handle)[:2:])\n",
    "        \n",
    "        distance_to_target = euclidean_distance(robot_point_on_world_non_stop, point_objective_world)                \n",
    "        \n",
    "        if distance_to_target < distance_tolerance:\n",
    "            sim.setJointTargetVelocity(left_motor_handle, 0)\n",
    "            sim.setJointTargetVelocity(right_motor_handle, 0)\n",
    "            Grid.update()\n",
    "            break\n",
    "\n",
    "        Grid.update()"
   ]
  },
  {
   "cell_type": "markdown",
   "id": "b25801a6-c247-4e7d-b80a-0a1f99d1ac1c",
   "metadata": {},
   "source": [
    "# Setting up the enviroment in Coppelia Sim\n",
    "      o   o\n",
    "      |___|\n",
    "     /_____\\\n",
    "    ( () () )\n",
    "     \\  ^  /\n",
    "    /| |-| |\\    "
   ]
  },
  {
   "cell_type": "code",
   "execution_count": 27,
   "id": "48e34d14-57c8-44da-8208-ee7ec9937b0d",
   "metadata": {},
   "outputs": [],
   "source": [
    "current_working_directory = os.getcwd()\n",
    "\n",
    "# Change here the scene you want to test it on.\n",
    "# Pay atteintion to different robot, sensor or motor names.\n",
    "scene_path = current_working_directory + '/dynamic_scene_original.ttt'"
   ]
  },
  {
   "cell_type": "code",
   "execution_count": 28,
   "id": "70debc74-f50b-48fc-a9f5-c30f735843b9",
   "metadata": {},
   "outputs": [
    {
     "name": "stdout",
     "output_type": "stream",
     "text": [
      "Scene loaded\n"
     ]
    }
   ],
   "source": [
    "client = RemoteAPIClient()\n",
    "sim = client.require('sim')\n",
    "\n",
    "if not (sim.loadScene(scene_path)):\n",
    "    print(\"Couldn't open scene\")\n",
    "else:\n",
    "    print(\"Scene loaded\") "
   ]
  },
  {
   "cell_type": "markdown",
   "id": "339cdeb7-c43d-4b5a-aa49-d679e50a2845",
   "metadata": {},
   "source": [
    "# Runing the scene\n",
    "The scene is started with a slow 360, to get information about the enviroment\n",
    "\n",
    "After that, the robot searches for available frontiers until there are none of a minimum size left "
   ]
  },
  {
   "cell_type": "code",
   "execution_count": 29,
   "id": "f09a3610-7b6b-4731-906d-cdd5f1153200",
   "metadata": {},
   "outputs": [
    {
     "data": {
      "image/png": "[encoded data removed]",
      "text/plain": [
       "<Figure size 900x800 with 2 Axes>"
      ]
     },
     "metadata": {},
     "output_type": "display_data"
    },
    {
     "data": {
      "image/png": "[encoded data removed]",
      "text/plain": [
       "<Figure size 900x800 with 2 Axes>"
      ]
     },
     "metadata": {},
     "output_type": "display_data"
    },
    {
     "data": {
      "image/png": "[encoded data removed]",
      "text/plain": [
       "<Figure size 900x800 with 2 Axes>"
      ]
     },
     "metadata": {},
     "output_type": "display_data"
    },
    {
     "data": {
      "image/png": "[encoded data removed]",
      "text/plain": [
       "<Figure size 900x800 with 2 Axes>"
      ]
     },
     "metadata": {},
     "output_type": "display_data"
    },
    {
     "data": {
      "image/png": "[encoded data removed]",
      "text/plain": [
       "<Figure size 900x800 with 2 Axes>"
      ]
     },
     "metadata": {},
     "output_type": "display_data"
    },
    {
     "name": "stdout",
     "output_type": "stream",
     "text": [
      "Too close. Emergency mode\n",
      "Exploring!\n"
     ]
    },
    {
     "data": {
      "image/png": "[encoded data removed]",
      "text/plain": [
       "<Figure size 900x800 with 2 Axes>"
      ]
     },
     "metadata": {},
     "output_type": "display_data"
    },
    {
     "name": "stdout",
     "output_type": "stream",
     "text": [
      "Arrived at a Frontier\n",
      "Exploring!\n"
     ]
    },
    {
     "data": {
      "image/png": "[encoded data removed]",
      "text/plain": [
       "<Figure size 900x800 with 2 Axes>"
      ]
     },
     "metadata": {},
     "output_type": "display_data"
    },
    {
     "name": "stdout",
     "output_type": "stream",
     "text": [
      "Arrived at a Frontier\n",
      "Exploring!\n"
     ]
    },
    {
     "data": {
      "image/png": "[encoded data removed]",
      "text/plain": [
       "<Figure size 900x800 with 2 Axes>"
      ]
     },
     "metadata": {},
     "output_type": "display_data"
    },
    {
     "name": "stdout",
     "output_type": "stream",
     "text": [
      "Too close. Emergency mode\n",
      "Exploring!\n"
     ]
    },
    {
     "data": {
      "image/png": "[encoded data removed]",
      "text/plain": [
       "<Figure size 900x800 with 2 Axes>"
      ]
     },
     "metadata": {},
     "output_type": "display_data"
    },
    {
     "name": "stdout",
     "output_type": "stream",
     "text": [
      "Arrived at a Frontier\n",
      "Exploring!\n"
     ]
    },
    {
     "data": {
      "image/png": "[encoded data removed]",
      "text/plain": [
       "<Figure size 900x800 with 2 Axes>"
      ]
     },
     "metadata": {},
     "output_type": "display_data"
    },
    {
     "name": "stdout",
     "output_type": "stream",
     "text": [
      "Too close. Emergency mode\n",
      "Exploring!\n",
      "No frontier left with size big enought\n",
      "End of exploring :(, No other big enought frontier left\n"
     ]
    },
    {
     "data": {
      "image/png": "[encoded data removed]",
      "text/plain": [
       "<Figure size 900x800 with 2 Axes>"
      ]
     },
     "metadata": {},
     "output_type": "display_data"
    },
    {
     "data": {
      "image/png": "[encoded data removed]",
      "text/plain": [
       "<Figure size 900x800 with 2 Axes>"
      ]
     },
     "metadata": {},
     "output_type": "display_data"
    },
    {
     "data": {
      "image/png": "[encoded data removed]",
      "text/plain": [
       "<Figure size 900x800 with 2 Axes>"
      ]
     },
     "metadata": {},
     "output_type": "display_data"
    },
    {
     "data": {
      "image/png": "[encoded data removed]",
      "text/plain": [
       "<Figure size 900x800 with 2 Axes>"
      ]
     },
     "metadata": {},
     "output_type": "display_data"
    }
   ],
   "source": [
    "kobuki_handle = sim.getObject('/kobuki')\n",
    "hokuyo_handle = sim.getObject('/fastHokuyo')\n",
    "kobuki_left_motor = sim.getObject('/kobuki_leftMotor')\n",
    "kobuki_right_motor = sim.getObject('/kobuki_rightMotor')\n",
    "\n",
    "\n",
    "# Defining the variables the alter the comportament of the robot\n",
    "velocity = 3.5\n",
    "cell_size = 0.1\n",
    "sensor_precision = 0.98\n",
    "# The sensor noise variables and sensor limits can be changed on the 5th code cell\n",
    "# inside the function sensor_processing_to_robot_coordinates(all set to 0)\n",
    "# As for padding and frontier sizes and plot the path, you should visit 19th cell\n",
    "\n",
    "\n",
    "Grid = OccupancyGrid(10, 10, cell_size, sensor_precision, hokuyo_handle, kobuki_handle, \n",
    "                     kobuki_left_motor, kobuki_right_motor, velocity)\n",
    "\n",
    "sim.startSimulation()\n",
    "\n",
    "rotate_360(kobuki_left_motor, kobuki_right_motor, kobuki_handle, velocity)\n",
    "\n",
    "Grid.plot_grid_var(probability_grid_plot = True, reduced_grid_plot = True,\n",
    "                   padded_grid_plot = True, frontiers_grid_plot = True)\n",
    "\n",
    "while (find_path_to_explore(Grid.get_grid(), kobuki_left_motor, kobuki_right_motor,\n",
    "                          kobuki_handle, velocity, cell_size) != 1):\n",
    "\n",
    "    print(\"Exploring!\")\n",
    "\n",
    "print(\"End of exploring :(, No other big enought frontier left\") \n",
    "\n",
    "sim.stopSimulation()\n",
    "\n",
    "# Plots wanted shoud be marked as True\n",
    "Grid.plot_grid_var(probability_grid_plot = True, reduced_grid_plot = True,\n",
    "                   padded_grid_plot = True, frontiers_grid_plot = True)"
   ]
  }
 ],
 "metadata": {
  "kernelspec": {
   "display_name": "Python 3 (ipykernel)",
   "language": "python",
   "name": "python3"
  },
  "language_info": {
   "codemirror_mode": {
    "name": "ipython",
    "version": 3
   },
   "file_extension": ".py",
   "mimetype": "text/x-python",
   "name": "python",
   "nbconvert_exporter": "python",
   "pygments_lexer": "ipython3",
   "version": "3.11.0"
  }
 },
 "nbformat": 4,
 "nbformat_minor": 5
}
